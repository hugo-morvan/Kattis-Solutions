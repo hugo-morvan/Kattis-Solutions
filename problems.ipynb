{
 "cells": [
  {
   "cell_type": "code",
   "execution_count": 5,
   "metadata": {},
   "outputs": [],
   "source": [
    "import os\n",
    "from dotenv import load_dotenv\n",
    "load_dotenv()\n",
    "user = os.getenv(\"USER\")\n",
    "password = os.getenv(\"PASSWORD\")"
   ]
  },
  {
   "cell_type": "code",
   "execution_count": 6,
   "metadata": {},
   "outputs": [
    {
     "name": "stdout",
     "output_type": "stream",
     "text": [
      "[login] Candidate username(s): ['hugo-morvan']\n",
      "[login] Successfully logged in to Kattis as hugo-morvan!\n",
      "[database] Listed all available languages!\n",
      "[database] Listed all 208 available countries!\n",
      "[database] Listed all 3940 available universities!\n"
     ]
    }
   ],
   "source": [
    "from autokattis import OpenKattis\n",
    "\n",
    "kt = OpenKattis(user, password)\n"
   ]
  },
  {
   "cell_type": "code",
   "execution_count": 3,
   "metadata": {},
   "outputs": [
    {
     "name": "stdout",
     "output_type": "stream",
     "text": [
      "Help on method problems in module autokattis.api.openkattis:\n",
      "\n",
      "problems(show_solved=True, show_partial=True, show_tried=False, show_untried=False, low_detail_mode=False) method of autokattis.api.openkattis.OpenKattis instance\n",
      "    Gets the list of Open Kattis problems.\n",
      "    \n",
      "    Parameters:\n",
      "    - low_detail_mode: True if you want only need the problem IDs and the links. Otherwise, it will contain many other details and thus will take more time. By default, this is set to False.\n",
      "    \n",
      "    The below parameters only matter if low_detail_mode is set to False:\n",
      "    - show_solved: True if you want to include fully solved problems, False otherwise. By default, this is set to True.\n",
      "    - show_partial: True if you want to include partially solved problems, False otherwise. By default, this is set to True.\n",
      "    - show_tried: True if you want to include unsolved problems that you have attempted, False otherwise. By default, this is set to False.\n",
      "    - show_untried: True if you want to include unsolved problems that you have never attempted, False otherwise. By default, this is set to False.\n",
      "    \n",
      "    Example for low detail mode:\n",
      "    [\n",
      "        {\n",
      "            \"name\": \"Stopwatch\",\n",
      "            \"id\": \"stopwatch\",\n",
      "            \"link\": \"https://open.kattis.com/problems/stopwatch\"\n",
      "        },\n",
      "        {\n",
      "            \"name\": \"String Multimatching\",\n",
      "            \"id\": \"stringmultimatching\",\n",
      "            \"link\": \"https://open.kattis.com/problems/stringmultimatching\"\n",
      "        },\n",
      "        {\n",
      "            \"name\": \"Beautiful Subarrays\",\n",
      "            \"id\": \"subarrays\",\n",
      "            \"link\": \"https://open.kattis.com/problems/subarrays\"\n",
      "        }\n",
      "    ]\n",
      "    \n",
      "    Example for full detail mode:\n",
      "    [\n",
      "        {\n",
      "            \"name\": \"XOR Equation\",\n",
      "            \"id\": \"xorequation\",\n",
      "            \"fastest\": 0.02,\n",
      "            \"shortest\": 711,\n",
      "            \"total\": 518,\n",
      "            \"acc\": 152,\n",
      "            \"difficulty\": 4.7,\n",
      "            \"category\": \"Medium\",\n",
      "            \"link\": \"https://open.kattis.com/problems/xorequation\"\n",
      "        },\n",
      "        {\n",
      "            \"name\": \"Xor Maximization\",\n",
      "            \"id\": \"xormax\",\n",
      "            \"fastest\": 0.0,\n",
      "            \"shortest\": 5,\n",
      "            \"total\": 921,\n",
      "            \"acc\": 258,\n",
      "            \"difficulty\": 6.1,\n",
      "            \"category\": \"Hard\",\n",
      "            \"link\": \"https://open.kattis.com/problems/xormax\"\n",
      "        }\n",
      "    ]\n",
      "\n"
     ]
    }
   ],
   "source": [
    "help(kt.problems)"
   ]
  },
  {
   "cell_type": "code",
   "execution_count": null,
   "metadata": {},
   "outputs": [],
   "source": [
    "kt.problems(show_partial=False, show_solved=False, show_tried=False,show_untried=True)"
   ]
  },
  {
   "cell_type": "code",
   "execution_count": 1,
   "metadata": {},
   "outputs": [
    {
     "ename": "NameError",
     "evalue": "name 'kt' is not defined",
     "output_type": "error",
     "traceback": [
      "\u001b[0;31m---------------------------------------------------------------------------\u001b[0m",
      "\u001b[0;31mNameError\u001b[0m                                 Traceback (most recent call last)",
      "Cell \u001b[0;32mIn[1], line 3\u001b[0m\n\u001b[1;32m      1\u001b[0m \u001b[38;5;66;03m#kt.problems()                               # problems you have solved so far\u001b[39;00m\n\u001b[1;32m      2\u001b[0m \u001b[38;5;66;03m#kt.problems(show_partial=False)             # exclude partial submissions\u001b[39;00m\n\u001b[0;32m----> 3\u001b[0m \u001b[43mkt\u001b[49m\u001b[38;5;241m.\u001b[39mproblems(low_detail_mode\u001b[38;5;241m=\u001b[39m\u001b[38;5;28;01mFalse\u001b[39;00m)          \u001b[38;5;66;03m# include more data for each problem\u001b[39;00m\n",
      "\u001b[0;31mNameError\u001b[0m: name 'kt' is not defined"
     ]
    }
   ],
   "source": [
    "#kt.problems()                               # problems you have solved so far\n",
    "#kt.problems(show_partial=False)             # exclude partial submissions\n",
    "kt.problems(low_detail_mode=False)          # include more data for each problem\n",
    "\n"
   ]
  },
  {
   "cell_type": "code",
   "execution_count": 7,
   "metadata": {},
   "outputs": [
    {
     "data": {
      "image/png": "[encoded data removed]",
      "text/plain": [
       "<Figure size 640x480 with 1 Axes>"
      ]
     },
     "metadata": {},
     "output_type": "display_data"
    }
   ],
   "source": [
    "kt.plot_problems()                          # plot the points distribution\n",
    "# kt.plot_problems(filepath='plot.png')       # save to a filepath\n",
    "# kt.plot_problems(show_partial=False)        # plot fully solved submissions"
   ]
  },
  {
   "cell_type": "code",
   "execution_count": 12,
   "metadata": {},
   "outputs": [
    {
     "data": {
      "text/plain": [
       "[{'name': 'Alphabet Spam',\n",
       "  'id': 'alphabetspam',\n",
       "  'runtime': 0.05,\n",
       "  'length': 124,\n",
       "  'achievement': 'Within 100% of shortest',\n",
       "  'difficulty': 1.7,\n",
       "  'category': 'Easy',\n",
       "  'link': 'https://open.kattis.com/problems/alphabetspam'},\n",
       " {'name': 'Blueberry Waffle',\n",
       "  'id': 'blueberrywaffle',\n",
       "  'runtime': 0.05,\n",
       "  'length': 100,\n",
       "  'achievement': 'Within 100% of shortest',\n",
       "  'difficulty': 2.0,\n",
       "  'category': 'Easy',\n",
       "  'link': 'https://open.kattis.com/problems/blueberrywaffle'},\n",
       " {'name': 'Fading Wind',\n",
       "  'id': 'fadingwind',\n",
       "  'runtime': 0.05,\n",
       "  'length': 118,\n",
       "  'achievement': 'Within 50% of shortest',\n",
       "  'difficulty': 1.6,\n",
       "  'category': 'Easy',\n",
       "  'link': 'https://open.kattis.com/problems/fadingwind'},\n",
       " {'name': \"Glasses Foggy, Mom's Spaghetti\",\n",
       "  'id': 'glassesfoggymomsspaghetti',\n",
       "  'runtime': 0.05,\n",
       "  'length': 126,\n",
       "  'achievement': 'Within 100% of shortest',\n",
       "  'difficulty': 2.3,\n",
       "  'category': 'Easy',\n",
       "  'link': 'https://open.kattis.com/problems/glassesfoggymomsspaghetti'},\n",
       " {'name': 'Hello World!',\n",
       "  'id': 'hello',\n",
       "  'runtime': 0.0,\n",
       "  'length': 21,\n",
       "  'achievement': 'Fastest Solution',\n",
       "  'difficulty': 1.1,\n",
       "  'category': 'Easy',\n",
       "  'link': 'https://open.kattis.com/problems/hello'},\n",
       " {'name': 'Meeting Points',\n",
       "  'id': 'meetingpoints',\n",
       "  'runtime': 0.16,\n",
       "  'length': 220,\n",
       "  'achievement': 'Within 50% of shortest',\n",
       "  'difficulty': 5.4,\n",
       "  'category': 'Medium',\n",
       "  'link': 'https://open.kattis.com/problems/meetingpoints'},\n",
       " {'name': 'Pea Pattern',\n",
       "  'id': 'peapattern',\n",
       "  'runtime': 0.05,\n",
       "  'length': 166,\n",
       "  'achievement': 'Within 100% of shortest',\n",
       "  'difficulty': 4.2,\n",
       "  'category': 'Medium',\n",
       "  'link': 'https://open.kattis.com/problems/peapattern'},\n",
       " {'name': 'Pizzubestun',\n",
       "  'id': 'pizzubestun',\n",
       "  'runtime': 0.14,\n",
       "  'length': 89,\n",
       "  'achievement': 'Within 50% of shortest',\n",
       "  'difficulty': 2.1,\n",
       "  'category': 'Easy',\n",
       "  'link': 'https://open.kattis.com/problems/pizzubestun'},\n",
       " {'name': 'Provinces and Gold',\n",
       "  'id': 'provincesandgold',\n",
       "  'runtime': 0.05,\n",
       "  'length': 173,\n",
       "  'achievement': 'Within 100% of shortest',\n",
       "  'difficulty': 1.4,\n",
       "  'category': 'Easy',\n",
       "  'link': 'https://open.kattis.com/problems/provincesandgold'},\n",
       " {'name': 'The Rectangles Are Surrounding Us!',\n",
       "  'id': 'rectanglesurrounding',\n",
       "  'runtime': 0.55,\n",
       "  'length': 225,\n",
       "  'achievement': 'Within 100% of shortest',\n",
       "  'difficulty': 2.6,\n",
       "  'category': 'Easy',\n",
       "  'link': 'https://open.kattis.com/problems/rectanglesurrounding'},\n",
       " {'name': 'Rule N',\n",
       "  'id': 'rulen',\n",
       "  'runtime': 0.05,\n",
       "  'length': 222,\n",
       "  'achievement': 'Within 100% of shortest',\n",
       "  'difficulty': 3.9,\n",
       "  'category': 'Medium',\n",
       "  'link': 'https://open.kattis.com/problems/rulen'},\n",
       " {'name': 'Sky Islands',\n",
       "  'id': 'skyislands',\n",
       "  'runtime': 0.05,\n",
       "  'length': 309,\n",
       "  'achievement': 'Within 50% of shortest',\n",
       "  'difficulty': 2.0,\n",
       "  'category': 'Easy',\n",
       "  'link': 'https://open.kattis.com/problems/skyislands'},\n",
       " {'name': 'Thanos',\n",
       "  'id': 'thanos',\n",
       "  'runtime': 0.09,\n",
       "  'length': 94,\n",
       "  'achievement': 'Within 100% of shortest',\n",
       "  'difficulty': 2.5,\n",
       "  'category': 'Easy',\n",
       "  'link': 'https://open.kattis.com/problems/thanos'},\n",
       " {'name': 'Undead or Alive',\n",
       "  'id': 'undeadoralive',\n",
       "  'runtime': 0.04,\n",
       "  'length': 85,\n",
       "  'achievement': 'Within 50% of shortest',\n",
       "  'difficulty': 1.4,\n",
       "  'category': 'Easy',\n",
       "  'link': 'https://open.kattis.com/problems/undeadoralive'},\n",
       " {'name': \"Who's the Boss?\",\n",
       "  'id': 'whostheboss',\n",
       "  'runtime': 0.85,\n",
       "  'length': 496,\n",
       "  'achievement': 'Within 10% of shortest',\n",
       "  'difficulty': 5.0,\n",
       "  'category': 'Medium',\n",
       "  'link': 'https://open.kattis.com/problems/whostheboss'}]"
      ]
     },
     "execution_count": 12,
     "metadata": {},
     "output_type": "execute_result"
    }
   ],
   "source": [
    "#kt.stats()                                  # your best submission for each problem\n",
    "\n",
    "#kt.suggest()                                # what's the next problem for me?\n",
    "kt.achievements()                           # do I have any?\n",
    "# kt.problem_authors()                        # list down all problem authors\n",
    "# kt.problem_sources()                        # list down all problem sources\n"
   ]
  },
  {
   "cell_type": "code",
   "execution_count": 13,
   "metadata": {},
   "outputs": [
    {
     "data": {
      "text/plain": [
       "[{'pid': 'dragafra',\n",
       "  'difficulty': 'Trivial',\n",
       "  'name': 'Draga Frá',\n",
       "  'link': 'https://open.kattis.com/problems/dragafra',\n",
       "  'min': 1.1,\n",
       "  'max': 1.1},\n",
       " {'pid': 'lubbilaerir',\n",
       "  'difficulty': 'Trivial',\n",
       "  'name': 'Lubbi Lærir',\n",
       "  'link': 'https://open.kattis.com/problems/lubbilaerir',\n",
       "  'min': 1.1,\n",
       "  'max': 1.1},\n",
       " {'pid': 'hittast',\n",
       "  'difficulty': 'Easy',\n",
       "  'name': 'Hittast',\n",
       "  'link': 'https://open.kattis.com/problems/hittast',\n",
       "  'min': 1.4,\n",
       "  'max': 1.9},\n",
       " {'pid': 'klockan2',\n",
       "  'difficulty': 'Easy',\n",
       "  'name': 'The Clock',\n",
       "  'link': 'https://open.kattis.com/problems/klockan2',\n",
       "  'min': 1.6,\n",
       "  'max': 1.9},\n",
       " {'pid': 'martiandna',\n",
       "  'difficulty': 'Medium',\n",
       "  'name': 'Martian DNA',\n",
       "  'link': 'https://open.kattis.com/problems/martiandna',\n",
       "  'min': 1.2,\n",
       "  'max': 4.0},\n",
       " {'pid': 'circlepassing',\n",
       "  'difficulty': 'Medium',\n",
       "  'name': 'Circle Passing',\n",
       "  'link': 'https://open.kattis.com/problems/circlepassing',\n",
       "  'min': 1.2,\n",
       "  'max': 4.0},\n",
       " {'pid': 'majoritycard',\n",
       "  'difficulty': 'Hard',\n",
       "  'name': 'Majority Card',\n",
       "  'link': 'https://open.kattis.com/problems/majoritycard',\n",
       "  'min': 1.2,\n",
       "  'max': 7.0},\n",
       " {'pid': 'mysterious',\n",
       "  'difficulty': 'Hard',\n",
       "  'name': 'Mysterious Array',\n",
       "  'link': 'https://open.kattis.com/problems/mysterious',\n",
       "  'min': 1.4,\n",
       "  'max': 7.0}]"
      ]
     },
     "execution_count": 13,
     "metadata": {},
     "output_type": "execute_result"
    }
   ],
   "source": [
    "kt.suggest() "
   ]
  }
 ],
 "metadata": {
  "kernelspec": {
   "display_name": "Python 3",
   "language": "python",
   "name": "python3"
  },
  "language_info": {
   "codemirror_mode": {
    "name": "ipython",
    "version": 3
   },
   "file_extension": ".py",
   "mimetype": "text/x-python",
   "name": "python",
   "nbconvert_exporter": "python",
   "pygments_lexer": "ipython3",
   "version": "3.10.12"
  }
 },
 "nbformat": 4,
 "nbformat_minor": 2
}
